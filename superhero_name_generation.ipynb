{
 "cells": [
  {
   "cell_type": "code",
   "execution_count": 1,
   "metadata": {
    "colab": {},
    "colab_type": "code",
    "id": "CoudSpK_xqGs"
   },
   "outputs": [],
   "source": [
    "import os\n",
    "from collections import Counter\n",
    "from itertools import chain\n",
    "from IPython.display import clear_output"
   ]
  },
  {
   "cell_type": "code",
   "execution_count": 2,
   "metadata": {
    "colab": {},
    "colab_type": "code",
    "id": "7aGG8v_3xqGv"
   },
   "outputs": [],
   "source": [
    "import torch\n",
    "import torch.nn as nn\n",
    "from torch.nn import functional as F"
   ]
  },
  {
   "cell_type": "code",
   "execution_count": 3,
   "metadata": {
    "colab": {},
    "colab_type": "code",
    "id": "qInmnz9cxqG2"
   },
   "outputs": [
    {
     "name": "stderr",
     "output_type": "stream",
     "text": [
      "/home/dulat/anaconda3/lib/python3.6/importlib/_bootstrap.py:219: RuntimeWarning: numpy.dtype size changed, may indicate binary incompatibility. Expected 96, got 88\n",
      "  return f(*args, **kwds)\n",
      "/home/dulat/anaconda3/lib/python3.6/importlib/_bootstrap.py:219: RuntimeWarning: numpy.dtype size changed, may indicate binary incompatibility. Expected 96, got 88\n",
      "  return f(*args, **kwds)\n"
     ]
    }
   ],
   "source": [
    "import numpy as np\n",
    "import pandas as pd"
   ]
  },
  {
   "cell_type": "code",
   "execution_count": 4,
   "metadata": {
    "colab": {},
    "colab_type": "code",
    "id": "azJSiDveyIE-"
   },
   "outputs": [],
   "source": [
    "import matplotlib.pyplot as plt\n",
    "plt.style.use('ggplot')\n",
    "%matplotlib inline"
   ]
  },
  {
   "cell_type": "code",
   "execution_count": 5,
   "metadata": {
    "colab": {},
    "colab_type": "code",
    "id": "AqtsdZQaxqG6"
   },
   "outputs": [],
   "source": [
    "device = torch.device('cuda' if torch.cuda.is_available() else 'cpu')"
   ]
  },
  {
   "cell_type": "markdown",
   "metadata": {
    "colab_type": "text",
    "id": "ao8fmsmuycdA"
   },
   "source": [
    "Давайте посмотрим можете ли вы использовать GPU для нашей задачи"
   ]
  },
  {
   "cell_type": "code",
   "execution_count": 6,
   "metadata": {
    "colab": {
     "base_uri": "https://localhost:8080/",
     "height": 35
    },
    "colab_type": "code",
    "id": "-npFuCwCybvL",
    "outputId": "3a8a2520-5cf9-4800-a820-0f64df245dce"
   },
   "outputs": [
    {
     "name": "stdout",
     "output_type": "stream",
     "text": [
      "cuda\n"
     ]
    }
   ],
   "source": [
    "print(device)"
   ]
  },
  {
   "cell_type": "markdown",
   "metadata": {
    "colab_type": "text",
    "id": "56MvJy3ixqG5"
   },
   "source": [
    "### <center> Loading Dataset"
   ]
  },
  {
   "cell_type": "code",
   "execution_count": 7,
   "metadata": {
    "colab": {},
    "colab_type": "code",
    "id": "o5diI1wHxqG_"
   },
   "outputs": [],
   "source": [
    "path_dc = 'https://raw.githubusercontent.com/carnotaur/superhero_name_generation/master/data/dc-wikia-data.csv'\n",
    "path_marvel = 'https://raw.githubusercontent.com/carnotaur/superhero_name_generation/master/data/marvel-wikia-data.csv'"
   ]
  },
  {
   "cell_type": "code",
   "execution_count": 8,
   "metadata": {
    "colab": {},
    "colab_type": "code",
    "id": "T8-HPohhxqHB"
   },
   "outputs": [],
   "source": [
    "class Vocabulary():\n",
    "    def __init__(self, all_names, pad_idx=0, sos_idx=1, eos_idx=2):\n",
    "        self.pad_idx = pad_idx\n",
    "        self.sos_idx = sos_idx\n",
    "        self.eos_idx = eos_idx\n",
    "        self.all_names = all_names\n",
    "        #count frequency of chars\n",
    "        self.vocab = Counter(list(chain(*self.all_names)))\n",
    "        #create char to index dictionaries\n",
    "        self.char2idx = {'<pad>': self.pad_idx,\n",
    "                         '<sos>': self.sos_idx, \n",
    "                         '<eos>': self.eos_idx}\n",
    "        index = 2\n",
    "        for char, freq in self.vocab.items():\n",
    "            index += 1\n",
    "            self.char2idx[char] = index\n",
    "           \n",
    "        self.idx2char = {idx: char for char, idx in self.char2idx.items()}\n",
    "        self.vocab_size = len(set(self.char2idx.values()))\n",
    "        \n",
    "    def encode_string(self, string):\n",
    "        return [self.char2idx[char] for char in string]"
   ]
  },
  {
   "cell_type": "code",
   "execution_count": 9,
   "metadata": {
    "colab": {},
    "colab_type": "code",
    "id": "QQExpjkExqHF"
   },
   "outputs": [],
   "source": [
    "class Padding():\n",
    "    def padding(self, batch_string, pad_idx):\n",
    "        '''adds regular padding to string'''\n",
    "        max_len = max(map(len, batch_string))\n",
    "        padded_batch = []\n",
    "        for string in batch_string:\n",
    "            number_padding = max_len - len(string)\n",
    "            padded_string = string + [pad_idx] * number_padding\n",
    "            padded_batch.append(padded_string)\n",
    "        return padded_batch\n",
    "    \n",
    "    def add_eos_sos(self, batch_string, sos_idx, eos_idx):\n",
    "        '''adds end of string and start of string padding'''\n",
    "        sos_batch = []\n",
    "        eos_batch = []\n",
    "        for string in batch_string:\n",
    "            sos_string = [sos_idx] + string\n",
    "            eos_string = string + [eos_idx]\n",
    "            sos_batch.append(sos_string)\n",
    "            eos_batch.append(eos_string)\n",
    "        return sos_batch, eos_batch"
   ]
  },
  {
   "cell_type": "code",
   "execution_count": 10,
   "metadata": {
    "colab": {},
    "colab_type": "code",
    "id": "5klqE-tOxqHH"
   },
   "outputs": [],
   "source": [
    "class Dataset():\n",
    "    def __init__(self, path_dc, path_marvel):\n",
    "        self.all_names = self.load_dataset(path_dc, path_marvel)\n",
    "        #to char represantation of name\n",
    "        self.all_names = list(map(list, self.all_names))\n",
    "        self.vocab = Vocabulary(self.all_names)\n",
    "        self.padding = Padding()\n",
    "        \n",
    "    def __len__(self):\n",
    "        return len(self.all_names)\n",
    "    \n",
    "    def load_dataset(self, path_dc, path_marvel):\n",
    "        dc_df = pd.read_csv(path_dc)\n",
    "        marvel_df = pd.read_csv(path_marvel)\n",
    "        self.dataframe = dc_df.append(marvel_df)\n",
    "        all_names = (self.dataframe.name\n",
    "                         .str.replace('\\((.*?)\\)', '')\n",
    "                         .str.strip()\n",
    "                         .str.lower()\n",
    "                         .unique())\n",
    "        return all_names\n",
    "    \n",
    "    def get_batch(self, batch_size):\n",
    "        batch_chars = [self.all_names[np.random.randint(len(self.all_names))] \n",
    "                       for _ in range(batch_size)]\n",
    "        #to index\n",
    "        batch_numbers = [self.vocab.encode_string(string) for string in batch_chars]\n",
    "        #add padding\n",
    "        batch_numbers = self.padding.padding(batch_numbers, pad_idx=self.vocab.pad_idx)\n",
    "        batch_in, batch_out = self.padding.add_eos_sos(batch_numbers, \n",
    "                                                       sos_idx=self.vocab.sos_idx, \n",
    "                                                       eos_idx=self.vocab.eos_idx)\n",
    "        batch_in = torch.LongTensor(batch_in)\n",
    "        batch_out = torch.LongTensor(batch_out)\n",
    "        return batch_in, batch_out"
   ]
  },
  {
   "cell_type": "code",
   "execution_count": 11,
   "metadata": {
    "colab": {},
    "colab_type": "code",
    "id": "A2UpVdg0xqHQ"
   },
   "outputs": [],
   "source": [
    "def show_predicted_name(epoch, logits, batch_out, vocab):\n",
    "    logit = logits.view(batch_size, -1, vocab.vocab_size)[0]\n",
    "    truth_name = batch_out[0]\n",
    "    generated_name = logit.topk(1)[1]\n",
    "    generated_name = [vocab.idx2char[char.item()] for char in generated_name \n",
    "                      if char not in [vocab.pad_idx, vocab.eos_idx]]\n",
    "    generated_name = ''.join(generated_name)\n",
    "    truth_name = [vocab.idx2char[char.item()] for char in truth_name \n",
    "                  if char not in [vocab.pad_idx, vocab.eos_idx]]\n",
    "    truth_name = ''.join(truth_name)\n",
    "    print('--------')\n",
    "    print(f'Epoch:{epoch}\\n Predicted: {generated_name}\\n Truth: {truth_name}')"
   ]
  },
  {
   "cell_type": "markdown",
   "metadata": {},
   "source": [
    "Посмотрим на данные<br>\n"
   ]
  },
  {
   "cell_type": "code",
   "execution_count": 12,
   "metadata": {
    "scrolled": false
   },
   "outputs": [],
   "source": [
    "dataset = Dataset(path_dc, path_marvel)"
   ]
  },
  {
   "cell_type": "markdown",
   "metadata": {},
   "source": [
    "Сперва на оригинальный dataframe"
   ]
  },
  {
   "cell_type": "code",
   "execution_count": 13,
   "metadata": {},
   "outputs": [],
   "source": [
    "#your code here"
   ]
  },
  {
   "cell_type": "markdown",
   "metadata": {},
   "source": [
    "Затем на имена после небольшой обработки"
   ]
  },
  {
   "cell_type": "code",
   "execution_count": 14,
   "metadata": {},
   "outputs": [],
   "source": [
    "#your code here"
   ]
  },
  {
   "cell_type": "markdown",
   "metadata": {},
   "source": [
    "Как будут выглядить имена когда будут поступать в нашу сетку"
   ]
  },
  {
   "cell_type": "code",
   "execution_count": 15,
   "metadata": {},
   "outputs": [
    {
     "data": {
      "text/plain": [
       "(1, 2, 0)"
      ]
     },
     "execution_count": 15,
     "metadata": {},
     "output_type": "execute_result"
    }
   ],
   "source": [
    "dataset.vocab.sos_idx, dataset.vocab.eos_idx, dataset.vocab.pad_idx"
   ]
  },
  {
   "cell_type": "code",
   "execution_count": 16,
   "metadata": {},
   "outputs": [],
   "source": [
    "#your code here"
   ]
  },
  {
   "cell_type": "markdown",
   "metadata": {
    "colab_type": "text",
    "id": "6n_mgqibxqHK"
   },
   "source": [
    "# <center>Model"
   ]
  },
  {
   "cell_type": "markdown",
   "metadata": {},
   "source": [
    "### <center> Embedding"
   ]
  },
  {
   "cell_type": "markdown",
   "metadata": {},
   "source": [
    "<center> <img src=\"pic/embedding.png\">"
   ]
  },
  {
   "cell_type": "markdown",
   "metadata": {},
   "source": [
    "### <center> RNN"
   ]
  },
  {
   "cell_type": "markdown",
   "metadata": {},
   "source": [
    "<center> <img src=\"pic/rnn.jpg\">"
   ]
  },
  {
   "cell_type": "markdown",
   "metadata": {},
   "source": [
    "Пример как работает backward"
   ]
  },
  {
   "cell_type": "code",
   "execution_count": 17,
   "metadata": {},
   "outputs": [],
   "source": [
    "x = torch.tensor([1, 2, 3], dtype=torch.float64, requires_grad=True)"
   ]
  },
  {
   "cell_type": "code",
   "execution_count": 18,
   "metadata": {},
   "outputs": [],
   "source": [
    "#your code here"
   ]
  },
  {
   "cell_type": "markdown",
   "metadata": {},
   "source": [
    "### <center> Напишем модель"
   ]
  },
  {
   "cell_type": "code",
   "execution_count": 19,
   "metadata": {
    "colab": {},
    "colab_type": "code",
    "id": "B2d9isHQxqHL"
   },
   "outputs": [],
   "source": [
    "class Model(nn.Module):\n",
    "    def __init__(self, vocab_size, emb_size, hidden_size, pad_idx):\n",
    "        #your code here\n",
    "        pass\n",
    "        \n",
    "    def forward(self, batch_in, hidden=None):\n",
    "        '''\n",
    "        In:\n",
    "          batch_in: [batch_size, sequence_len]\n",
    "          hidden: [1, 1, hidden_size] - default: None\n",
    "        Out:\n",
    "          logits: [batch_size * sequence_len, vocab_size]\n",
    "        '''\n",
    "        #your code here\n",
    "        #flatten\n",
    "        return logits, hidden\n",
    "    \n",
    "    def generate(self, determined, vocab):\n",
    "        start_char = torch.LongTensor([[vocab.sos_idx]]).to(device)\n",
    "        generated_name = [start_char]\n",
    "        hidden = torch.zeros(1, 1, self.hidden_size).to(device)\n",
    "        for _ in range(15):\n",
    "            logit, hidden = self.forward(generated_name[-1], hidden)\n",
    "            if determined:\n",
    "                char = logit.topk(1)[1]\n",
    "            else:\n",
    "                char = F.softmax(logit, dim=1).multinomial(1)\n",
    "            generated_name.append(char)\n",
    "            if char.item() == vocab.eos_idx:\n",
    "                break\n",
    "        generated_name = [vocab.idx2char[char.item()] for char in generated_name \n",
    "                          if char not in  [vocab.pad_idx, \n",
    "                                           vocab.eos_idx, \n",
    "                                           vocab.sos_idx]]\n",
    "        generated_name = ''.join(generated_name[1:])\n",
    "        return generated_name"
   ]
  },
  {
   "cell_type": "code",
   "execution_count": 20,
   "metadata": {},
   "outputs": [],
   "source": [
    "#for testing"
   ]
  },
  {
   "cell_type": "code",
   "execution_count": 21,
   "metadata": {},
   "outputs": [],
   "source": [
    "batch_in, batch_out = dataset.get_batch(32)"
   ]
  },
  {
   "cell_type": "markdown",
   "metadata": {
    "colab_type": "text",
    "id": "KDxoEUG4xqHT"
   },
   "source": [
    "### <center> Trainig"
   ]
  },
  {
   "cell_type": "code",
   "execution_count": 22,
   "metadata": {
    "colab": {},
    "colab_type": "code",
    "id": "oclAXMbyxqHX"
   },
   "outputs": [],
   "source": [
    "#hyperparameters\n",
    "batch_size = 64\n",
    "emb_size = 64\n",
    "hidden_size = 256\n",
    "num_epochs = 100\n",
    "lr = 0.001\n",
    "vocab_size = dataset.vocab.vocab_size"
   ]
  },
  {
   "cell_type": "markdown",
   "metadata": {},
   "source": [
    "<center> Cross Entropy Loss"
   ]
  },
  {
   "cell_type": "markdown",
   "metadata": {},
   "source": [
    "<center> <img src=\"pic/cross_entopy.jpg\">"
   ]
  },
  {
   "cell_type": "code",
   "execution_count": 23,
   "metadata": {
    "colab": {},
    "colab_type": "code",
    "id": "MwqN9gl1xqHZ"
   },
   "outputs": [],
   "source": [
    "#your code here"
   ]
  },
  {
   "cell_type": "code",
   "execution_count": 24,
   "metadata": {
    "colab": {
     "base_uri": "https://localhost:8080/",
     "height": 8719
    },
    "colab_type": "code",
    "id": "D-eqd_8dxqHl",
    "outputId": "8b8691d8-f3b4-41da-865b-d51828b64d4c",
    "scrolled": false
   },
   "outputs": [
    {
     "name": "stdout",
     "output_type": "stream",
     "text": [
      "CPU times: user 2 µs, sys: 0 ns, total: 2 µs\n",
      "Wall time: 5.48 µs\n"
     ]
    }
   ],
   "source": [
    "%%time\n",
    "losses = []\n",
    "#your code here"
   ]
  },
  {
   "cell_type": "markdown",
   "metadata": {
    "colab_type": "text",
    "id": "LfmVuudExqHo"
   },
   "source": [
    "<center> Посмотрим на сгенерированные имена"
   ]
  },
  {
   "cell_type": "code",
   "execution_count": 25,
   "metadata": {
    "colab": {},
    "colab_type": "code",
    "id": "Tnjn45ebxqHo"
   },
   "outputs": [],
   "source": [
    "def print_superhero_name(model, n_names):\n",
    "    for _ in range(n_names):\n",
    "        generated_name = model.generate(False, dataset.vocab)\n",
    "        print('------------------------------------------------------------------')\n",
    "        print('LADYS AND GENTLEMEN PREPARED TO BE WONDERED BY GROUND NEW SUPERHERO!!!')\n",
    "        print('CREATED BY MYSTERIOUS ROBOTIC INTELLIGENT!!!')\n",
    "        print('RIGHT FROM LABORATORY OF EVIL GENIUS -- RECCURENT NEURAL NETWORK----!!!')\n",
    "        print(f'NEW HERO NAMED AS  ----{generated_name.upper()}---!!!!!')\n",
    "        print()"
   ]
  },
  {
   "cell_type": "code",
   "execution_count": 26,
   "metadata": {
    "colab": {
     "base_uri": "https://localhost:8080/",
     "height": 537
    },
    "colab_type": "code",
    "id": "Bhfo_N-bxqHq",
    "outputId": "ed1cbb30-d32e-48ca-cf42-8e427e1cbcde"
   },
   "outputs": [],
   "source": [
    "#your code here"
   ]
  },
  {
   "cell_type": "markdown",
   "metadata": {
    "colab": {},
    "colab_type": "code",
    "id": "Hy8aslUpxqHs"
   },
   "source": [
    "## <center> __Хотите узнать больше?__"
   ]
  },
  {
   "cell_type": "markdown",
   "metadata": {},
   "source": [
    "Введение в pytorch tensors:\n",
    "https://github.com/Kyubyong/pytorch_exercises\n",
    "\n",
    "Неофициальный PyTorch туториал: https://github.com/yunjey/pytorch-tutorial <br>\n",
    "Достаточно пройти Basics и Intermediate\n",
    "\n",
    "1. Basics\n",
    "\n",
    "    - PyTorch Basics\n",
    "    - Linear Regression\n",
    "    - Logistic Regression\n",
    "    - Feedforward Neural Network\n",
    "\n",
    "2. Intermediate\n",
    "\n",
    "    - Convolutional Neural Network\n",
    "    - Deep Residual Network\n",
    "    - Recurrent Neural Network\n",
    "    - Bidirectional Recurrent Neural Network\n",
    "    - Language Model (RNN-LM)\n",
    "\n",
    "\n",
    "__Официальные pytorch туториалы__:<br>\n",
    "What is PyTorch?\n",
    "https://pytorch.org/tutorials/beginner/blitz/tensor_tutorial.html#sphx-glr-beginner-blitz-tensor-tutorial-py\n",
    "\n",
    "Neural Networks\n",
    "https://pytorch.org/tutorials/beginner/blitz/neural_networks_tutorial.html#sphx-glr-beginner-blitz-neural-networks-tutorial-py\n",
    "\n",
    "Training a Classifier\n",
    "https://pytorch.org/tutorials/beginner/blitz/cifar10_tutorial.html#sphx-glr-beginner-blitz-cifar10-tutorial-py\n",
    "\n",
    "Transfer Learning Tutorial\n",
    "https://pytorch.org/tutorials/beginner/transfer_learning_tutorial.html\n",
    "\n",
    "Classifying Names with a Character-Level RNN\n",
    "https://pytorch.org/tutorials/intermediate/char_rnn_classification_tutorial.html\n",
    "\n",
    "Generating Names with a Character-Level RNN\n",
    "https://pytorch.org/tutorials/intermediate/char_rnn_generation_tutorial.html"
   ]
  }
 ],
 "metadata": {
  "accelerator": "GPU",
  "colab": {
   "collapsed_sections": [],
   "name": "superhero_name_generation.ipynb",
   "provenance": [],
   "version": "0.3.2"
  },
  "kernelspec": {
   "display_name": "Python 3",
   "language": "python",
   "name": "python3"
  },
  "language_info": {
   "codemirror_mode": {
    "name": "ipython",
    "version": 3
   },
   "file_extension": ".py",
   "mimetype": "text/x-python",
   "name": "python",
   "nbconvert_exporter": "python",
   "pygments_lexer": "ipython3",
   "version": "3.6.4"
  }
 },
 "nbformat": 4,
 "nbformat_minor": 1
}
